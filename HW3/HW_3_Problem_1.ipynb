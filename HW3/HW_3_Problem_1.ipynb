{
  "nbformat": 4,
  "nbformat_minor": 0,
  "metadata": {
    "colab": {
      "provenance": [],
      "authorship_tag": "ABX9TyMTLQ7304v+RrtTHqvMEylE",
      "include_colab_link": true
    },
    "kernelspec": {
      "name": "python3",
      "display_name": "Python 3"
    },
    "language_info": {
      "name": "python"
    }
  },
  "cells": [
    {
      "cell_type": "markdown",
      "metadata": {
        "id": "view-in-github",
        "colab_type": "text"
      },
      "source": [
        "<a href=\"https://colab.research.google.com/github/JackGallagher41/AI/blob/main/HW_3_Problem_1.ipynb\" target=\"_parent\"><img src=\"https://colab.research.google.com/assets/colab-badge.svg\" alt=\"Open In Colab\"/></a>"
      ]
    },
    {
      "cell_type": "markdown",
      "source": [
        "# Jack Gallagher"
      ],
      "metadata": {
        "id": "05qzezIglNNq"
      }
    },
    {
      "cell_type": "markdown",
      "source": [
        "## Problem 1"
      ],
      "metadata": {
        "id": "2cE6XqktlMh6"
      }
    },
    {
      "cell_type": "markdown",
      "source": [
        "## 2/15/2024"
      ],
      "metadata": {
        "id": "fCz5xBdu0Zp0"
      }
    },
    {
      "cell_type": "markdown",
      "source": [
        "Problem: Use the BFS algorithm to return the kth-level friend for a given user and graph"
      ],
      "metadata": {
        "id": "JtybYbzulZNc"
      }
    },
    {
      "cell_type": "code",
      "execution_count": 5,
      "metadata": {
        "id": "6Osa9PiqlGSZ"
      },
      "outputs": [],
      "source": [
        "from collections import deque\n",
        "\n",
        "def FindFriends(G, user, K):\n",
        "\n",
        "  #Check to confirm user is in the graph given\n",
        "  if user not in G:\n",
        "    return \"User not found\"\n",
        "\n",
        "  # set up the queue and visited list as well as intializing the set of friends to be returned\n",
        "  visited, queue = set(), deque ([(user, 0)])\n",
        "  visited.add(user)\n",
        "  friends = set()\n",
        "\n",
        "  #keeps looping going as long as queue is not empty\n",
        "  while queue:\n",
        "    name, level= queue.popleft()\n",
        "\n",
        "    #When on the correct level add name into friends\n",
        "    if level==K:\n",
        "      friends.add(name)\n",
        "\n",
        "    #Adds onto queue neighbors that have not yet been visited\n",
        "    for neighbor in G[name]:\n",
        "      if neighbor not in visited:\n",
        "        visited.add(neighbor)\n",
        "        queue.append((neighbor, level + 1))\n",
        "\n",
        "  #returns the friends on k-level\n",
        "  return friends"
      ]
    },
    {
      "cell_type": "code",
      "source": [
        "#Test the function\n",
        "graph = {\n",
        "  'Bob' : ['Richard', 'Rob', 'Pam'],\n",
        "  'Richard' : [],\n",
        "  'Rob' : [],\n",
        "  'Pam' : ['Roger', 'Peter'],\n",
        "  'Roger' : ['Anna'],\n",
        "  'Anna' : [],\n",
        "  'Peter' : ['Amy'],\n",
        "  'Amy' : [],\n",
        "}\n",
        "\n",
        "FindFriends(graph, 'Bob', 3)"
      ],
      "metadata": {
        "colab": {
          "base_uri": "https://localhost:8080/"
        },
        "id": "K7_yUj4OucVW",
        "outputId": "938a64f0-451b-465d-8996-07cd53f1867c"
      },
      "execution_count": 6,
      "outputs": [
        {
          "output_type": "execute_result",
          "data": {
            "text/plain": [
              "{'Amy', 'Anna'}"
            ]
          },
          "metadata": {},
          "execution_count": 6
        }
      ]
    }
  ]
}
