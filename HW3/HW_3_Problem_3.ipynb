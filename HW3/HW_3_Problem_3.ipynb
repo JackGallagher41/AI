{
  "nbformat": 4,
  "nbformat_minor": 0,
  "metadata": {
    "colab": {
      "provenance": [],
      "authorship_tag": "ABX9TyOAcU9jyxfpRP2Qia2H2rE9",
      "include_colab_link": true
    },
    "kernelspec": {
      "name": "python3",
      "display_name": "Python 3"
    },
    "language_info": {
      "name": "python"
    }
  },
  "cells": [
    {
      "cell_type": "markdown",
      "metadata": {
        "id": "view-in-github",
        "colab_type": "text"
      },
      "source": [
        "<a href=\"https://colab.research.google.com/github/JackGallagher41/AI/blob/main/HW3/HW_3_Problem_3.ipynb\" target=\"_parent\"><img src=\"https://colab.research.google.com/assets/colab-badge.svg\" alt=\"Open In Colab\"/></a>"
      ]
    },
    {
      "cell_type": "markdown",
      "source": [
        "# Jack Gallagher"
      ],
      "metadata": {
        "id": "2z2L2enviHz8"
      }
    },
    {
      "cell_type": "markdown",
      "source": [
        "## Problem 3"
      ],
      "metadata": {
        "id": "aPyrUtddiJGc"
      }
    },
    {
      "cell_type": "markdown",
      "source": [
        "## 2/15/2024"
      ],
      "metadata": {
        "id": "U4DwaM_w0ciP"
      }
    },
    {
      "cell_type": "markdown",
      "source": [
        "Problem: Write a DFS algorithm which when given a start node and a goal node, it returns SUCCESS if the goal is reachable and FAILURE otherwise. Your algorithm should test both graphs shown below and return SUCCESS for the first graph and FAILURE for the second one."
      ],
      "metadata": {
        "id": "QxS_XQKXiS-Y"
      }
    },
    {
      "cell_type": "code",
      "source": [
        "from collections import deque\n",
        "\n",
        "def DFS(graph, current, goal, visited=set()):\n",
        "\n",
        "    # adds the current point into the list\n",
        "    visited.add(current)\n",
        "\n",
        "    # if you reach the end return success\n",
        "    if current == goal:\n",
        "       return \"Success\"\n",
        "\n",
        "    #recursively depth first searches through the array to get to the end returning success when found\n",
        "    for neighbor in graph[current]:\n",
        "      if neighbor not in visited:\n",
        "        if DFS(graph, neighbor, goal, visited) == \"Success\":\n",
        "          return \"Success\"\n",
        "\n",
        "    #return failure if the finish is never found\n",
        "    return \"Failure\""
      ],
      "metadata": {
        "id": "Um1GNAAXiHrG"
      },
      "execution_count": 18,
      "outputs": []
    },
    {
      "cell_type": "code",
      "execution_count": 19,
      "metadata": {
        "id": "2UB71nxShysZ"
      },
      "outputs": [],
      "source": [
        "graph1 = {\n",
        "    1: [11, 2],\n",
        "    2: [1, 3],\n",
        "    3: [2, 13],\n",
        "    4: [14, 5],\n",
        "    5: [4, 6],\n",
        "    6: [5, 16],\n",
        "    7: [17, 8],\n",
        "    8: [7, 9],\n",
        "    9: [8, 10],\n",
        "    10: [9, 20],\n",
        "    11: [1, 21],\n",
        "    12: [13],\n",
        "    13: [3, 12],\n",
        "    14: [15, 4],\n",
        "    15: [25, 14],\n",
        "    16: [6, 17],\n",
        "    17: [16, 7],\n",
        "    18: [28],\n",
        "    19: [20, 29],\n",
        "    20: [10, 19],\n",
        "    21: [11, 22],\n",
        "    22: [21, 32],\n",
        "    23: [33, 24],\n",
        "    24: [23],\n",
        "    25: [35, 15, 26],\n",
        "    26: [25,36],\n",
        "    27: [17, 28],\n",
        "    28: [27, 18],\n",
        "    29: [19, 39],\n",
        "    30: [40],\n",
        "    31: [32, 41],\n",
        "    32: [31, 33],\n",
        "    33: [23,32],\n",
        "    34: [44, 35],\n",
        "    35: [34, 45, 25],\n",
        "    36: [26, 37],\n",
        "    37: [36],\n",
        "    38: [39, 48],\n",
        "    39: [29, 38, 40],\n",
        "    40: [39, 30],\n",
        "    41: [31,42],\n",
        "    42: [41, 43],\n",
        "    43: [42, 44],\n",
        "    44: [43, 34],\n",
        "    45:[35, 46],\n",
        "    46: [45],\n",
        "    47: [48],\n",
        "    48: [47, 38, 49],\n",
        "    49: [48, 50],\n",
        "    50: [49]\n",
        "}\n",
        "\n",
        "graph2 = {\n",
        "    1: [11, 2],\n",
        "    2: [1, 3],\n",
        "    3: [2, 13],\n",
        "    4: [14, 5],\n",
        "    5: [4, 6],\n",
        "    6: [5, 16],\n",
        "    7: [17, 8],\n",
        "    8: [7, 9],\n",
        "    9: [8, 10],\n",
        "    10: [9, 20],\n",
        "    11: [1, 21],\n",
        "    12: [13],\n",
        "    13: [3, 12],\n",
        "    14: [15, 4],\n",
        "    15: [25, 14],\n",
        "    16: [6, 17],\n",
        "    17: [16, 7],\n",
        "    18: [28],\n",
        "    19: [20, 29],\n",
        "    20: [10, 19],\n",
        "    21: [11, 22],\n",
        "    22: [21],\n",
        "    23: [33, 24],\n",
        "    24: [23],\n",
        "    25: [35, 15, 26],\n",
        "    26: [25,36],\n",
        "    27: [17, 28],\n",
        "    28: [27, 18],\n",
        "    29: [19, 39],\n",
        "    30: [40],\n",
        "    31: [32, 41],\n",
        "    32: [31, 33],\n",
        "    33: [23,32],\n",
        "    34: [44, 35],\n",
        "    35: [34, 45, 25],\n",
        "    36: [26, 37],\n",
        "    37: [36],\n",
        "    38: [39, 48],\n",
        "    39: [29, 38, 40],\n",
        "    40: [39, 30],\n",
        "    41: [31,42],\n",
        "    42: [41, 43],\n",
        "    43: [42, 44],\n",
        "    44: [43, 34],\n",
        "    45:[35, 46],\n",
        "    46: [45],\n",
        "    47: [48],\n",
        "    48: [47, 38, 49],\n",
        "    49: [48, 50],\n",
        "    50: [49]\n",
        "}"
      ]
    },
    {
      "cell_type": "code",
      "source": [
        "#test graph 1 (Success)\n",
        "DFS(graph1, 1, 50)"
      ],
      "metadata": {
        "colab": {
          "base_uri": "https://localhost:8080/",
          "height": 35
        },
        "id": "67W8W06hr9-C",
        "outputId": "b2f49dc4-c53d-4a5c-e3fd-366a7ed0d590"
      },
      "execution_count": 20,
      "outputs": [
        {
          "output_type": "execute_result",
          "data": {
            "text/plain": [
              "'Success'"
            ],
            "application/vnd.google.colaboratory.intrinsic+json": {
              "type": "string"
            }
          },
          "metadata": {},
          "execution_count": 20
        }
      ]
    },
    {
      "cell_type": "code",
      "source": [
        "# test graph 2 (Failure)\n",
        "DFS(graph2, 1, 50)"
      ],
      "metadata": {
        "colab": {
          "base_uri": "https://localhost:8080/",
          "height": 35
        },
        "id": "q94zHkKOr-oT",
        "outputId": "a2a5163e-3aa1-4a54-d46d-af490df015b2"
      },
      "execution_count": 21,
      "outputs": [
        {
          "output_type": "execute_result",
          "data": {
            "text/plain": [
              "'Failure'"
            ],
            "application/vnd.google.colaboratory.intrinsic+json": {
              "type": "string"
            }
          },
          "metadata": {},
          "execution_count": 21
        }
      ]
    }
  ]
}