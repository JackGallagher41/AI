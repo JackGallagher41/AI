{
  "nbformat": 4,
  "nbformat_minor": 0,
  "metadata": {
    "colab": {
      "provenance": [],
      "authorship_tag": "ABX9TyOXSLNs2tp9VThCrYy0tZYM",
      "include_colab_link": true
    },
    "kernelspec": {
      "name": "python3",
      "display_name": "Python 3"
    },
    "language_info": {
      "name": "python"
    }
  },
  "cells": [
    {
      "cell_type": "markdown",
      "metadata": {
        "id": "view-in-github",
        "colab_type": "text"
      },
      "source": [
        "<a href=\"https://colab.research.google.com/github/JackGallagher41/AI/blob/main/HW_3_Problem_2.ipynb\" target=\"_parent\"><img src=\"https://colab.research.google.com/assets/colab-badge.svg\" alt=\"Open In Colab\"/></a>"
      ]
    },
    {
      "cell_type": "markdown",
      "source": [
        "# Jack Gallagher"
      ],
      "metadata": {
        "id": "OdPMdXHn62h_"
      }
    },
    {
      "cell_type": "markdown",
      "source": [
        "## Problem 2"
      ],
      "metadata": {
        "id": "f7edoNgB63tp"
      }
    },
    {
      "cell_type": "markdown",
      "source": [
        "## 2/15/2024"
      ],
      "metadata": {
        "id": "y_EdouPcy7SM"
      }
    },
    {
      "cell_type": "markdown",
      "source": [
        "Problem: Write an algorithm that uses BFS to discover potentially missing immediate connections in a network"
      ],
      "metadata": {
        "id": "Lr-OhDIp66PV"
      }
    },
    {
      "cell_type": "code",
      "execution_count": 13,
      "metadata": {
        "id": "7-2BZjASzEPG"
      },
      "outputs": [],
      "source": [
        "from collections import deque\n",
        "\n",
        "def PotentialFriends(G, user):\n",
        "  #make sure user is in the graph given\n",
        "  if user not in graph:\n",
        "    return \"User not found\";\n",
        "\n",
        "  # set up the queue and visited list as well as intializing the set of friends to be returned\n",
        "  visited, queue = set(), deque([(user, 0)])\n",
        "  visited.add(user)\n",
        "  friends = set()\n",
        "\n",
        "  # Keep exploring as long as the queue is not empty\n",
        "  while queue:\n",
        "    #pop and check the name and level of the user to see if they can be a potential friend\n",
        "    name, level = queue.popleft()\n",
        "\n",
        "    #Sets level to greater then 1 to make sure its not immediate friend\n",
        "    #You can change around code to look for specific levels or cap it\n",
        "    if level > 1:\n",
        "      friends.add(name)\n",
        "    #Checks for neighbors and if not visited adds them to the queue\n",
        "    for neighbor in G[name]:\n",
        "      if neighbor not in visited:\n",
        "        visited.add(neighbor)\n",
        "        queue.append((neighbor, level + 1))\n",
        "\n",
        "  #returns potential friends\n",
        "  return friends"
      ]
    },
    {
      "cell_type": "code",
      "source": [
        "graph = {\n",
        "  'Adam':   ['Maria'],\n",
        "  'Maria':  ['Adam', 'Maya', 'David', 'Sophia'],\n",
        "  'Sophia': ['Maria', 'Maya'],\n",
        "  'Maya':   ['Maria', 'David', 'Sophia'],\n",
        "  'David':  ['Maria', 'Maya'],\n",
        "}"
      ],
      "metadata": {
        "id": "YZx8DmqIcXHc"
      },
      "execution_count": 14,
      "outputs": []
    },
    {
      "cell_type": "code",
      "source": [
        "PotentialFriends(graph,'Sophia')"
      ],
      "metadata": {
        "colab": {
          "base_uri": "https://localhost:8080/"
        },
        "id": "UBs21BbYc0H1",
        "outputId": "e55426ff-bbc4-4b6d-d124-ab1fcfdaa806"
      },
      "execution_count": 15,
      "outputs": [
        {
          "output_type": "execute_result",
          "data": {
            "text/plain": [
              "{'Adam', 'David'}"
            ]
          },
          "metadata": {},
          "execution_count": 15
        }
      ]
    }
  ]
}
